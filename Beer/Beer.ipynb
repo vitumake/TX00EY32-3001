{
 "cells": [
  {
   "cell_type": "markdown",
   "id": "1bea7a04",
   "metadata": {},
   "source": [
    "# What attributes are important for a good beer?"
   ]
  },
  {
   "cell_type": "markdown",
   "id": "a3ca5154",
   "metadata": {},
   "source": [
    "## 1. Objective"
   ]
  },
  {
   "cell_type": "markdown",
   "id": "07bf1b4e",
   "metadata": {},
   "source": [
    "The goal of this analysis is to identify the key attributes that contribute to a high-quality beer as perceived by reviewers.  Specifically, we aim to determine which beer characteristics—such as alcohol content, aroma, appearance, palate, and taste—have the most significant impact on a beer's overall rating. This will help breweries understand what aspects to prioritize in order to maximize customer satisfaction.\n",
    "\n",
    "To achieve this, we will utilize a dataset containing over 1.5 million beer reviews, which can be found on https://www.kaggle.com/rdoume/beerreviews. Using linear regression, we will explore the relationship between these beer attributes and their overall review scores, providing insights into which factors influence beer quality the most."
   ]
  },
  {
   "cell_type": "code",
   "execution_count": 14,
   "id": "f2d9d870",
   "metadata": {
    "ExecuteTime": {
     "end_time": "2024-10-02T06:50:31.119033Z",
     "start_time": "2024-10-02T06:50:31.116135Z"
    }
   },
   "outputs": [],
   "source": [
    "import pandas as pd\n",
    "import matplotlib.pyplot as plt\n",
    "\n",
    "df = pd.read_csv(\"beer_reviews.csv\")"
   ]
  },
  {
   "cell_type": "markdown",
   "id": "d61dd847",
   "metadata": {},
   "source": [
    "## 2. Understanding the data"
   ]
  },
  {
   "cell_type": "code",
   "execution_count": 15,
   "id": "373eebfa-78b0-4136-9a2e-2095dbee0108",
   "metadata": {
    "ExecuteTime": {
     "end_time": "2024-10-02T06:50:31.126127Z",
     "start_time": "2024-10-02T06:50:31.123880Z"
    }
   },
   "outputs": [
    {
     "name": "stdout",
     "output_type": "stream",
     "text": [
      "          version https://git-lfs.github.com/spec/v1\n",
      "0  oid sha256:951e688265643b7265d62f0b522f45aae80...\n",
      "1                                     size 180174429\n"
     ]
    }
   ],
   "source": [
    "print(df.head(5))\n"
   ]
  },
  {
   "cell_type": "markdown",
   "source": [
    "**Key Features in the dataset:**\n",
    "\n",
    "- `beer_abv`:This stands for \"Alcohol by Volume\" (ABV), a standard measure used worldwide to quantify the amount of alcohol (ethanol) in an alcoholic beverage. It’s expressed as a percentage of total volume. Higher ABV values indicate stronger beers.\n",
    "- `review_aroma`: A subjective score based on the scent or fragrance of the beer, which can include notes of malt, hops, yeast, spices, and other characteristics that contribute to a beer's smell.\n",
    "- `review-appearance`:This score reflects the appearance of the beer, including factors like color, clarity, head (foam), and how appealing it looks to the reviewer.\n",
    "- `review-palate`: This is a rating of the beer's mouthfeel or texture, which includes sensations like carbonation, smoothness, creaminess, and body (how heavy or light it feels in the mouth).\n",
    "- `review-taste`:  This is the score for the beer's flavor. It includes how well the flavors (such as bitterness, sweetness, sourness) balance, the complexity of the taste, and the aftertaste.\n",
    "- `review-overall`:This is an overall rating that likely summarizes the reviewer's general impression of the beer. "
   ],
   "metadata": {
    "collapsed": false
   },
   "id": "a45a1ce88ba1dfd5"
  },
  {
   "cell_type": "code",
   "execution_count": 16,
   "id": "452bf87a",
   "metadata": {
    "ExecuteTime": {
     "end_time": "2024-10-02T06:50:31.156277Z",
     "start_time": "2024-10-02T06:50:31.134763Z"
    }
   },
   "outputs": [
    {
     "ename": "KeyError",
     "evalue": "'review_overall'",
     "output_type": "error",
     "traceback": [
      "\u001B[0;31m---------------------------------------------------------------------------\u001B[0m",
      "\u001B[0;31mKeyError\u001B[0m                                  Traceback (most recent call last)",
      "File \u001B[0;32m/opt/anaconda3/lib/python3.12/site-packages/pandas/core/indexes/base.py:3805\u001B[0m, in \u001B[0;36mIndex.get_loc\u001B[0;34m(self, key)\u001B[0m\n\u001B[1;32m   3804\u001B[0m \u001B[38;5;28;01mtry\u001B[39;00m:\n\u001B[0;32m-> 3805\u001B[0m     \u001B[38;5;28;01mreturn\u001B[39;00m \u001B[38;5;28mself\u001B[39m\u001B[38;5;241m.\u001B[39m_engine\u001B[38;5;241m.\u001B[39mget_loc(casted_key)\n\u001B[1;32m   3806\u001B[0m \u001B[38;5;28;01mexcept\u001B[39;00m \u001B[38;5;167;01mKeyError\u001B[39;00m \u001B[38;5;28;01mas\u001B[39;00m err:\n",
      "File \u001B[0;32mindex.pyx:167\u001B[0m, in \u001B[0;36mpandas._libs.index.IndexEngine.get_loc\u001B[0;34m()\u001B[0m\n",
      "File \u001B[0;32mindex.pyx:196\u001B[0m, in \u001B[0;36mpandas._libs.index.IndexEngine.get_loc\u001B[0;34m()\u001B[0m\n",
      "File \u001B[0;32mpandas/_libs/hashtable_class_helper.pxi:7081\u001B[0m, in \u001B[0;36mpandas._libs.hashtable.PyObjectHashTable.get_item\u001B[0;34m()\u001B[0m\n",
      "File \u001B[0;32mpandas/_libs/hashtable_class_helper.pxi:7089\u001B[0m, in \u001B[0;36mpandas._libs.hashtable.PyObjectHashTable.get_item\u001B[0;34m()\u001B[0m\n",
      "\u001B[0;31mKeyError\u001B[0m: 'review_overall'",
      "\nThe above exception was the direct cause of the following exception:\n",
      "\u001B[0;31mKeyError\u001B[0m                                  Traceback (most recent call last)",
      "Cell \u001B[0;32mIn[16], line 2\u001B[0m\n\u001B[1;32m      1\u001B[0m \u001B[38;5;66;03m# distribution of review scores\u001B[39;00m\n\u001B[0;32m----> 2\u001B[0m plt\u001B[38;5;241m.\u001B[39mhist(df[\u001B[38;5;124m'\u001B[39m\u001B[38;5;124mreview_overall\u001B[39m\u001B[38;5;124m'\u001B[39m], bins\u001B[38;5;241m=\u001B[39m\u001B[38;5;241m20\u001B[39m, color\u001B[38;5;241m=\u001B[39m\u001B[38;5;124m'\u001B[39m\u001B[38;5;124mlightblue\u001B[39m\u001B[38;5;124m'\u001B[39m, edgecolor\u001B[38;5;241m=\u001B[39m\u001B[38;5;124m'\u001B[39m\u001B[38;5;124mblack\u001B[39m\u001B[38;5;124m'\u001B[39m)\n\u001B[1;32m      3\u001B[0m plt\u001B[38;5;241m.\u001B[39mtitle(\u001B[38;5;124m'\u001B[39m\u001B[38;5;124mDistribution of Overall Review Scores\u001B[39m\u001B[38;5;124m'\u001B[39m)\n\u001B[1;32m      4\u001B[0m plt\u001B[38;5;241m.\u001B[39mxlabel(\u001B[38;5;124m'\u001B[39m\u001B[38;5;124mOverall Review Score\u001B[39m\u001B[38;5;124m'\u001B[39m)\n",
      "File \u001B[0;32m/opt/anaconda3/lib/python3.12/site-packages/pandas/core/frame.py:4102\u001B[0m, in \u001B[0;36mDataFrame.__getitem__\u001B[0;34m(self, key)\u001B[0m\n\u001B[1;32m   4100\u001B[0m \u001B[38;5;28;01mif\u001B[39;00m \u001B[38;5;28mself\u001B[39m\u001B[38;5;241m.\u001B[39mcolumns\u001B[38;5;241m.\u001B[39mnlevels \u001B[38;5;241m>\u001B[39m \u001B[38;5;241m1\u001B[39m:\n\u001B[1;32m   4101\u001B[0m     \u001B[38;5;28;01mreturn\u001B[39;00m \u001B[38;5;28mself\u001B[39m\u001B[38;5;241m.\u001B[39m_getitem_multilevel(key)\n\u001B[0;32m-> 4102\u001B[0m indexer \u001B[38;5;241m=\u001B[39m \u001B[38;5;28mself\u001B[39m\u001B[38;5;241m.\u001B[39mcolumns\u001B[38;5;241m.\u001B[39mget_loc(key)\n\u001B[1;32m   4103\u001B[0m \u001B[38;5;28;01mif\u001B[39;00m is_integer(indexer):\n\u001B[1;32m   4104\u001B[0m     indexer \u001B[38;5;241m=\u001B[39m [indexer]\n",
      "File \u001B[0;32m/opt/anaconda3/lib/python3.12/site-packages/pandas/core/indexes/base.py:3812\u001B[0m, in \u001B[0;36mIndex.get_loc\u001B[0;34m(self, key)\u001B[0m\n\u001B[1;32m   3807\u001B[0m     \u001B[38;5;28;01mif\u001B[39;00m \u001B[38;5;28misinstance\u001B[39m(casted_key, \u001B[38;5;28mslice\u001B[39m) \u001B[38;5;129;01mor\u001B[39;00m (\n\u001B[1;32m   3808\u001B[0m         \u001B[38;5;28misinstance\u001B[39m(casted_key, abc\u001B[38;5;241m.\u001B[39mIterable)\n\u001B[1;32m   3809\u001B[0m         \u001B[38;5;129;01mand\u001B[39;00m \u001B[38;5;28many\u001B[39m(\u001B[38;5;28misinstance\u001B[39m(x, \u001B[38;5;28mslice\u001B[39m) \u001B[38;5;28;01mfor\u001B[39;00m x \u001B[38;5;129;01min\u001B[39;00m casted_key)\n\u001B[1;32m   3810\u001B[0m     ):\n\u001B[1;32m   3811\u001B[0m         \u001B[38;5;28;01mraise\u001B[39;00m InvalidIndexError(key)\n\u001B[0;32m-> 3812\u001B[0m     \u001B[38;5;28;01mraise\u001B[39;00m \u001B[38;5;167;01mKeyError\u001B[39;00m(key) \u001B[38;5;28;01mfrom\u001B[39;00m \u001B[38;5;21;01merr\u001B[39;00m\n\u001B[1;32m   3813\u001B[0m \u001B[38;5;28;01mexcept\u001B[39;00m \u001B[38;5;167;01mTypeError\u001B[39;00m:\n\u001B[1;32m   3814\u001B[0m     \u001B[38;5;66;03m# If we have a listlike key, _check_indexing_error will raise\u001B[39;00m\n\u001B[1;32m   3815\u001B[0m     \u001B[38;5;66;03m#  InvalidIndexError. Otherwise we fall through and re-raise\u001B[39;00m\n\u001B[1;32m   3816\u001B[0m     \u001B[38;5;66;03m#  the TypeError.\u001B[39;00m\n\u001B[1;32m   3817\u001B[0m     \u001B[38;5;28mself\u001B[39m\u001B[38;5;241m.\u001B[39m_check_indexing_error(key)\n",
      "\u001B[0;31mKeyError\u001B[0m: 'review_overall'"
     ]
    }
   ],
   "source": [
    "# distribution of review scores\n",
    "plt.hist(df['review_overall'], bins=20, color='lightblue', edgecolor='black')\n",
    "plt.title('Distribution of Overall Review Scores')\n",
    "plt.xlabel('Overall Review Score')\n",
    "plt.ylabel('Frequency')\n",
    "plt.grid(axis='y')\n",
    "plt.show()"
   ]
  },
  {
   "cell_type": "markdown",
   "id": "097635f3",
   "metadata": {},
   "source": [
    "## 3. Data Preparation"
   ]
  },
  {
   "cell_type": "markdown",
   "id": "e5928a29",
   "metadata": {},
   "source": [
    "Picking out the important attributes from the dataset:"
   ]
  },
  {
   "cell_type": "code",
   "execution_count": null,
   "id": "0d7ff9f1",
   "metadata": {},
   "outputs": [],
   "source": [
    "df_clean = df[['beer_abv', 'review_aroma', 'review_appearance', 'review_palate', 'review_taste', 'review_overall']].dropna()"
   ]
  },
  {
   "cell_type": "markdown",
   "id": "2f46f4c2",
   "metadata": {},
   "source": [
    "Making sure that there are no missing values in the dataset."
   ]
  },
  {
   "cell_type": "code",
   "execution_count": null,
   "id": "b8c61566",
   "metadata": {},
   "outputs": [],
   "source": [
    "print(\"Missing values:\")\n",
    "print(df_clean.isnull().sum())"
   ]
  },
  {
   "cell_type": "markdown",
   "id": "5aa11daf",
   "metadata": {},
   "source": [
    "## 4. Modeling "
   ]
  },
  {
   "cell_type": "markdown",
   "id": "6438c97e",
   "metadata": {},
   "source": [
    "We use linear regression for this beer review dataset because it provides a simple, interpretable way to quantify how various attributes like aroma, appearance, taste, and ABV influence the overall beer rating. By examining the model's coefficients, we can identify which factors have the most significant impact on a beer's quality."
   ]
  },
  {
   "cell_type": "code",
   "execution_count": null,
   "id": "b63a1624",
   "metadata": {},
   "outputs": [],
   "source": [
    "from sklearn.model_selection import train_test_split\n",
    "from sklearn.preprocessing import StandardScaler\n",
    "from sklearn.linear_model import LinearRegression\n",
    "from sklearn.metrics import mean_squared_error, r2_score\n",
    "\n",
    "\n",
    "# Defining the feature set (X) and target variable (y)\n",
    "X_overall = df_clean[['beer_abv', 'review_aroma', 'review_appearance', 'review_palate', 'review_taste']]\n",
    "y_overall = df_clean['review_overall']\n",
    "\n",
    "# Scaling\n",
    "scaler = StandardScaler()\n",
    "X_scaled = scaler.fit_transform(X_overall)\n",
    "\n",
    "# Splitting the data into training and testing sets\n",
    "X_train_overall, X_test_overall, y_overall_train, y_overall_test = train_test_split(X_scaled, y_overall, test_size=0.2, random_state=42)\n",
    "\n",
    "# Creating the linear regression model\n",
    "model = LinearRegression()\n",
    "model.fit(X_train_overall, y_overall_train)\n",
    "\n",
    "# Predicting the target variable\n",
    "y_overall_pred = model.predict(X_test_overall)\n",
    "\n"
   ]
  },
  {
   "cell_type": "markdown",
   "id": "f60df41f",
   "metadata": {},
   "source": [
    "## 5. Evaluation"
   ]
  },
  {
   "cell_type": "code",
   "execution_count": null,
   "id": "ce40d7f0",
   "metadata": {},
   "outputs": [],
   "source": [
    "# performance evaluation\n",
    "mse_overall = mean_squared_error(y_overall_test, y_overall_pred)\n",
    "r2_overall = r2_score(y_overall_test, y_overall_pred)\n",
    "\n",
    "print(f'Mean Squared Error: {mse_overall}')\n",
    "print(f'R^2 Score: {r2_overall}')\n",
    "\n",
    "# Multipliers of each attribute on Overall_Review attribute\n",
    "coeff_overall = model.coef_\n",
    "print(f'Multipliers: {coeff_overall}')\n",
    "\n",
    "# Plotting Coefficients\n",
    "plt.figure(figsize=(10, 6))\n",
    "plt.bar(X_overall.columns, coeff_overall, color='lightgreen')\n",
    "plt.title('Multiplier of each attribute on Overall Review')\n",
    "plt.ylabel('Coefficient')\n",
    "plt.xlabel('Attribute')\n",
    "plt.xticks(rotation=45)\n",
    "plt.axhline(0, color='black', linewidth=0.8, linestyle='--')\n",
    "plt.show()"
   ]
  },
  {
   "cell_type": "markdown",
   "id": "f6ada548",
   "metadata": {},
   "source": [
    "### Interpretation of the results\n",
    "\n",
    "#### 1. Mean Squared Error(MSE):\n",
    "* Value: 0.17\n",
    "* Interpretation: The average squared difference between the estimated values and the actual value is 0.17. \n",
    "#### 2. R-squared(R^2):\n",
    "* Value: 0.67\n",
    "* Interpretation: 67% of the variance in the dependent variable can be explained by the independent variables.\n",
    "* The rest of the variance is due to other variables that are not used in the model.\n",
    "#### 3. Coefficients:\n",
    "* The coefficients of the independent variables show how much the dependent variable changes when the independent variable changes by one unit.\n",
    "* The coefficients are as follows:\n",
    "    * beer_abv: -0.0963\n",
    "    * review_aroma: 0.053\n",
    "    * review_appearance: 0.0296\n",
    "    * review_palate: 0.184\n",
    "    * review_taste: 0.404"
   ]
  },
  {
   "cell_type": "markdown",
   "id": "6503aa4b",
   "metadata": {},
   "source": [
    "## 6. Conclusion\n",
    "\n",
    "## Key Attributes Affecting Overall Review:\n",
    "\n",
    "* Taste is the most influential factor, with a positive coefficient of 0.404. This indicates that as the taste score increases by one unit, the overall review score increases by approximately 0.404. Breweries should focus on optimizing the taste of their beers to improve overall consumer satisfaction.\n",
    "\n",
    "* Palate, with a coefficient of 0.184, is the second most important factor. This suggests that the feel of the beer in the mouth (texture, carbonation, etc.) plays a notable role. \n",
    "\n",
    "* Aroma and appearance have smaller but still positive effects, with coefficients of 0.053 and 0.0296. While these attributes contribute to the overall review, their impact is smaller compared to taste and palate.\n",
    "\n",
    "* Alcohol by Volume (ABV), interestingly, has a negative coefficient (-0.0963), meaning higher alcohol content may slightly detract from the overall review score. This suggests that consumers prefer beers with lower ABV, at least within the range of the dataset.\n",
    "\n",
    "## Tips for Breweries:\n",
    "* Breweries should prioritize taste and palate when making new beers.\n",
    "* Exceccive alcohol content should be avoided to maintain consumer satisfaction."
   ]
  }
 ],
 "metadata": {
  "kernelspec": {
   "display_name": "Python 3 (ipykernel)",
   "language": "python",
   "name": "python3"
  },
  "language_info": {
   "codemirror_mode": {
    "name": "ipython",
    "version": 3
   },
   "file_extension": ".py",
   "mimetype": "text/x-python",
   "name": "python",
   "nbconvert_exporter": "python",
   "pygments_lexer": "ipython3",
   "version": "3.9.12"
  }
 },
 "nbformat": 4,
 "nbformat_minor": 5
}
