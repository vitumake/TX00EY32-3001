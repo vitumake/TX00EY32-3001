import numpy as np
import pandas as pd

df = pd.read_csv('beer_reviews.csv')

print(df[df["brewery_name"]=="Oy Sinebrychoff Ab"])
